{
 "cells": [
  {
   "cell_type": "code",
   "execution_count": 1,
   "id": "47c61197-d63e-41b4-ae03-d2fea8b78570",
   "metadata": {},
   "outputs": [],
   "source": [
    "import numpy as np\n",
    "import pandas as pd\n",
    "import matplotlib.pyplot as plt\n",
    "import torch.nn as nn\n",
    "%matplotlib inline\n",
    "import torch\n",
    "import torch.optim as optim\n",
    "import datetime"
   ]
  },
  {
   "cell_type": "code",
   "execution_count": 2,
   "id": "88c9d705-5afb-42c3-9ace-15f9dd441152",
   "metadata": {},
   "outputs": [
    {
     "name": "stdout",
     "output_type": "stream",
     "text": [
      "Using cuda device\n"
     ]
    }
   ],
   "source": [
    "device = (\n",
    "    \"cuda\"\n",
    "    if torch.cuda.is_available()\n",
    "    else \"mps\"\n",
    "    if torch.backends.mps.is_available()\n",
    "    else \"cpu\"\n",
    ")\n",
    "print(f\"Using {device} device\")"
   ]
  },
  {
   "cell_type": "code",
   "execution_count": 3,
   "id": "73a4159e-8279-4400-bf69-bc28d6a1dd52",
   "metadata": {},
   "outputs": [
    {
     "name": "stdout",
     "output_type": "stream",
     "text": [
      "Data shape:  (2888, 21)\n"
     ]
    },
    {
     "data": {
      "text/html": [
       "<div>\n",
       "<style scoped>\n",
       "    .dataframe tbody tr th:only-of-type {\n",
       "        vertical-align: middle;\n",
       "    }\n",
       "\n",
       "    .dataframe tbody tr th {\n",
       "        vertical-align: top;\n",
       "    }\n",
       "\n",
       "    .dataframe thead th {\n",
       "        text-align: right;\n",
       "    }\n",
       "</style>\n",
       "<table border=\"1\" class=\"dataframe\">\n",
       "  <thead>\n",
       "    <tr style=\"text-align: right;\">\n",
       "      <th></th>\n",
       "      <th>Unnamed: 0</th>\n",
       "      <th>Code</th>\n",
       "      <th>Year</th>\n",
       "      <th>Access to electricity (% of population)</th>\n",
       "      <th>Access to clean fuels for cooking</th>\n",
       "      <th>Renewable energy share in the total final energy consumption (%)</th>\n",
       "      <th>Electricity from fossil fuels (TWh)</th>\n",
       "      <th>Electricity from nuclear (TWh)</th>\n",
       "      <th>Electricity from renewables (TWh)</th>\n",
       "      <th>Low-carbon electricity (% electricity)</th>\n",
       "      <th>...</th>\n",
       "      <th>Energy intensity level of primary energy (MJ/$2017 PPP GDP)</th>\n",
       "      <th>gdp_growth</th>\n",
       "      <th>gdp_per_capita</th>\n",
       "      <th>Density\\n(P/Km2)</th>\n",
       "      <th>Land Area(Km2)</th>\n",
       "      <th>Latitude</th>\n",
       "      <th>Longitude</th>\n",
       "      <th>Kilotons of Co2</th>\n",
       "      <th>Metric Tons Per Capita</th>\n",
       "      <th>Population Growth Rate</th>\n",
       "    </tr>\n",
       "  </thead>\n",
       "  <tbody>\n",
       "    <tr>\n",
       "      <th>0</th>\n",
       "      <td>3</td>\n",
       "      <td>1.0</td>\n",
       "      <td>2004.0</td>\n",
       "      <td>20.064968</td>\n",
       "      <td>10.9</td>\n",
       "      <td>44.24</td>\n",
       "      <td>0.33</td>\n",
       "      <td>0.0</td>\n",
       "      <td>0.56</td>\n",
       "      <td>62.92135</td>\n",
       "      <td>...</td>\n",
       "      <td>1.2</td>\n",
       "      <td>1.414118</td>\n",
       "      <td>211.382074</td>\n",
       "      <td>60.0</td>\n",
       "      <td>652230.0</td>\n",
       "      <td>33.93911</td>\n",
       "      <td>67.709953</td>\n",
       "      <td>1030.0</td>\n",
       "      <td>0.04</td>\n",
       "      <td>4.321560</td>\n",
       "    </tr>\n",
       "    <tr>\n",
       "      <th>1</th>\n",
       "      <td>4</td>\n",
       "      <td>1.0</td>\n",
       "      <td>2003.0</td>\n",
       "      <td>14.738506</td>\n",
       "      <td>9.5</td>\n",
       "      <td>36.66</td>\n",
       "      <td>0.31</td>\n",
       "      <td>0.0</td>\n",
       "      <td>0.63</td>\n",
       "      <td>67.02128</td>\n",
       "      <td>...</td>\n",
       "      <td>1.4</td>\n",
       "      <td>8.832278</td>\n",
       "      <td>190.683814</td>\n",
       "      <td>60.0</td>\n",
       "      <td>652230.0</td>\n",
       "      <td>33.93911</td>\n",
       "      <td>67.709953</td>\n",
       "      <td>1220.0</td>\n",
       "      <td>0.05</td>\n",
       "      <td>4.668344</td>\n",
       "    </tr>\n",
       "  </tbody>\n",
       "</table>\n",
       "<p>2 rows × 21 columns</p>\n",
       "</div>"
      ],
      "text/plain": [
       "   Unnamed: 0  Code    Year  Access to electricity (% of population)  \\\n",
       "0           3   1.0  2004.0                                20.064968   \n",
       "1           4   1.0  2003.0                                14.738506   \n",
       "\n",
       "   Access to clean fuels for cooking  \\\n",
       "0                               10.9   \n",
       "1                                9.5   \n",
       "\n",
       "   Renewable energy share in the total final energy consumption (%)  \\\n",
       "0                                              44.24                  \n",
       "1                                              36.66                  \n",
       "\n",
       "   Electricity from fossil fuels (TWh)  Electricity from nuclear (TWh)  \\\n",
       "0                                 0.33                             0.0   \n",
       "1                                 0.31                             0.0   \n",
       "\n",
       "   Electricity from renewables (TWh)  Low-carbon electricity (% electricity)  \\\n",
       "0                               0.56                                62.92135   \n",
       "1                               0.63                                67.02128   \n",
       "\n",
       "   ...  Energy intensity level of primary energy (MJ/$2017 PPP GDP)  \\\n",
       "0  ...                                                1.2             \n",
       "1  ...                                                1.4             \n",
       "\n",
       "   gdp_growth  gdp_per_capita  Density\\n(P/Km2)  Land Area(Km2)  Latitude  \\\n",
       "0    1.414118      211.382074              60.0        652230.0  33.93911   \n",
       "1    8.832278      190.683814              60.0        652230.0  33.93911   \n",
       "\n",
       "   Longitude  Kilotons of Co2  Metric Tons Per Capita  Population Growth Rate  \n",
       "0  67.709953           1030.0                    0.04                4.321560  \n",
       "1  67.709953           1220.0                    0.05                4.668344  \n",
       "\n",
       "[2 rows x 21 columns]"
      ]
     },
     "execution_count": 3,
     "metadata": {},
     "output_type": "execute_result"
    }
   ],
   "source": [
    "file_path = 'D:/UNCC/UNCC ML/Project/new.csv'\n",
    "data = pd.DataFrame(pd.read_csv(file_path))\n",
    "print(\"Data shape: \", data.shape)\n",
    "data.head(2)"
   ]
  },
  {
   "cell_type": "code",
   "execution_count": 4,
   "id": "466463cf-fe05-4f91-ad6e-2e3db941d496",
   "metadata": {},
   "outputs": [
    {
     "data": {
      "text/plain": [
       "float64    20\n",
       "int64       1\n",
       "Name: count, dtype: int64"
      ]
     },
     "execution_count": 4,
     "metadata": {},
     "output_type": "execute_result"
    }
   ],
   "source": [
    "data.dtypes.value_counts()"
   ]
  },
  {
   "cell_type": "code",
   "execution_count": 5,
   "id": "0fb7a903-364f-4b56-bd3e-b25d27257821",
   "metadata": {},
   "outputs": [
    {
     "data": {
      "text/plain": [
       "float32    21\n",
       "Name: count, dtype: int64"
      ]
     },
     "execution_count": 5,
     "metadata": {},
     "output_type": "execute_result"
    }
   ],
   "source": [
    "data = data.astype(np.float32)\n",
    "data.dtypes.value_counts()"
   ]
  },
  {
   "cell_type": "code",
   "execution_count": 6,
   "id": "52b6f8f6-0759-4775-a99a-d434ddf28123",
   "metadata": {},
   "outputs": [
    {
     "name": "stdout",
     "output_type": "stream",
     "text": [
      "Output data shape: float32\n",
      "Y Train type:  <class 'pandas.core.series.Series'>\n"
     ]
    },
    {
     "data": {
      "text/plain": [
       "0    1030.0\n",
       "1    1220.0\n",
       "Name: Kilotons of Co2, dtype: float32"
      ]
     },
     "execution_count": 6,
     "metadata": {},
     "output_type": "execute_result"
    }
   ],
   "source": [
    "Y = data.pop(\"Kilotons of Co2\")\n",
    "print(\"Output data shape:\", Y.dtype)\n",
    "print(\"Y Train type: \", type(Y))\n",
    "Y.head(2)"
   ]
  },
  {
   "cell_type": "code",
   "execution_count": 7,
   "id": "5352bd2e-969e-4ed6-9ef1-fce797eba9d5",
   "metadata": {},
   "outputs": [
    {
     "name": "stdout",
     "output_type": "stream",
     "text": [
      "Input data shape: (2888, 20)\n",
      "YTrain type:  <class 'pandas.core.frame.DataFrame'>\n"
     ]
    },
    {
     "data": {
      "text/html": [
       "<div>\n",
       "<style scoped>\n",
       "    .dataframe tbody tr th:only-of-type {\n",
       "        vertical-align: middle;\n",
       "    }\n",
       "\n",
       "    .dataframe tbody tr th {\n",
       "        vertical-align: top;\n",
       "    }\n",
       "\n",
       "    .dataframe thead th {\n",
       "        text-align: right;\n",
       "    }\n",
       "</style>\n",
       "<table border=\"1\" class=\"dataframe\">\n",
       "  <thead>\n",
       "    <tr style=\"text-align: right;\">\n",
       "      <th></th>\n",
       "      <th>Unnamed: 0</th>\n",
       "      <th>Code</th>\n",
       "      <th>Year</th>\n",
       "      <th>Access to electricity (% of population)</th>\n",
       "      <th>Access to clean fuels for cooking</th>\n",
       "      <th>Renewable energy share in the total final energy consumption (%)</th>\n",
       "      <th>Electricity from fossil fuels (TWh)</th>\n",
       "      <th>Electricity from nuclear (TWh)</th>\n",
       "      <th>Electricity from renewables (TWh)</th>\n",
       "      <th>Low-carbon electricity (% electricity)</th>\n",
       "      <th>Primary energy consumption per capita (kWh/person)</th>\n",
       "      <th>Energy intensity level of primary energy (MJ/$2017 PPP GDP)</th>\n",
       "      <th>gdp_growth</th>\n",
       "      <th>gdp_per_capita</th>\n",
       "      <th>Density\\n(P/Km2)</th>\n",
       "      <th>Land Area(Km2)</th>\n",
       "      <th>Latitude</th>\n",
       "      <th>Longitude</th>\n",
       "      <th>Metric Tons Per Capita</th>\n",
       "      <th>Population Growth Rate</th>\n",
       "    </tr>\n",
       "  </thead>\n",
       "  <tbody>\n",
       "    <tr>\n",
       "      <th>0</th>\n",
       "      <td>3.0</td>\n",
       "      <td>1.0</td>\n",
       "      <td>2004.0</td>\n",
       "      <td>20.064968</td>\n",
       "      <td>10.9</td>\n",
       "      <td>44.240002</td>\n",
       "      <td>0.33</td>\n",
       "      <td>0.0</td>\n",
       "      <td>0.56</td>\n",
       "      <td>62.921349</td>\n",
       "      <td>204.231247</td>\n",
       "      <td>1.2</td>\n",
       "      <td>1.414118</td>\n",
       "      <td>211.382080</td>\n",
       "      <td>60.0</td>\n",
       "      <td>652230.0</td>\n",
       "      <td>33.93911</td>\n",
       "      <td>67.709953</td>\n",
       "      <td>0.04</td>\n",
       "      <td>4.321559</td>\n",
       "    </tr>\n",
       "    <tr>\n",
       "      <th>1</th>\n",
       "      <td>4.0</td>\n",
       "      <td>1.0</td>\n",
       "      <td>2003.0</td>\n",
       "      <td>14.738506</td>\n",
       "      <td>9.5</td>\n",
       "      <td>36.660000</td>\n",
       "      <td>0.31</td>\n",
       "      <td>0.0</td>\n",
       "      <td>0.63</td>\n",
       "      <td>67.021278</td>\n",
       "      <td>229.968216</td>\n",
       "      <td>1.4</td>\n",
       "      <td>8.832278</td>\n",
       "      <td>190.683807</td>\n",
       "      <td>60.0</td>\n",
       "      <td>652230.0</td>\n",
       "      <td>33.93911</td>\n",
       "      <td>67.709953</td>\n",
       "      <td>0.05</td>\n",
       "      <td>4.668344</td>\n",
       "    </tr>\n",
       "  </tbody>\n",
       "</table>\n",
       "</div>"
      ],
      "text/plain": [
       "   Unnamed: 0  Code    Year  Access to electricity (% of population)  \\\n",
       "0         3.0   1.0  2004.0                                20.064968   \n",
       "1         4.0   1.0  2003.0                                14.738506   \n",
       "\n",
       "   Access to clean fuels for cooking  \\\n",
       "0                               10.9   \n",
       "1                                9.5   \n",
       "\n",
       "   Renewable energy share in the total final energy consumption (%)  \\\n",
       "0                                          44.240002                  \n",
       "1                                          36.660000                  \n",
       "\n",
       "   Electricity from fossil fuels (TWh)  Electricity from nuclear (TWh)  \\\n",
       "0                                 0.33                             0.0   \n",
       "1                                 0.31                             0.0   \n",
       "\n",
       "   Electricity from renewables (TWh)  Low-carbon electricity (% electricity)  \\\n",
       "0                               0.56                               62.921349   \n",
       "1                               0.63                               67.021278   \n",
       "\n",
       "   Primary energy consumption per capita (kWh/person)  \\\n",
       "0                                         204.231247    \n",
       "1                                         229.968216    \n",
       "\n",
       "   Energy intensity level of primary energy (MJ/$2017 PPP GDP)  gdp_growth  \\\n",
       "0                                                1.2              1.414118   \n",
       "1                                                1.4              8.832278   \n",
       "\n",
       "   gdp_per_capita  Density\\n(P/Km2)  Land Area(Km2)  Latitude  Longitude  \\\n",
       "0      211.382080              60.0        652230.0  33.93911  67.709953   \n",
       "1      190.683807              60.0        652230.0  33.93911  67.709953   \n",
       "\n",
       "   Metric Tons Per Capita  Population Growth Rate  \n",
       "0                    0.04                4.321559  \n",
       "1                    0.05                4.668344  "
      ]
     },
     "execution_count": 7,
     "metadata": {},
     "output_type": "execute_result"
    }
   ],
   "source": [
    "X = data\n",
    "print(\"Input data shape:\", X.shape)\n",
    "print(\"YTrain type: \", type(X))\n",
    "X.head(2)"
   ]
  },
  {
   "cell_type": "code",
   "execution_count": 8,
   "id": "0c599eb6-0ecd-4d28-9c81-9edb0b728061",
   "metadata": {},
   "outputs": [
    {
     "name": "stdout",
     "output_type": "stream",
     "text": [
      "X type:  <class 'numpy.ndarray'>\n",
      "Y type:  <class 'numpy.ndarray'>\n"
     ]
    }
   ],
   "source": [
    "X = X.to_numpy()\n",
    "Y = Y.to_numpy()\n",
    "print(\"X type: \", type(X))\n",
    "print(\"Y type: \", type(Y))"
   ]
  },
  {
   "cell_type": "code",
   "execution_count": 9,
   "id": "80f8d1a8-17d6-4eba-8d1d-6d82fc85de86",
   "metadata": {},
   "outputs": [],
   "source": [
    "from sklearn.model_selection import train_test_split\n",
    "x_train, x_test, y_train, y_test = train_test_split(X, Y, train_size = 0.8, test_size = 0.2, random_state = 0)"
   ]
  },
  {
   "cell_type": "code",
   "execution_count": 10,
   "id": "9cc10112-61ca-489c-b41e-1dc5a5a39fec",
   "metadata": {},
   "outputs": [
    {
     "name": "stdout",
     "output_type": "stream",
     "text": [
      "Test data shape: (578, 20)\n",
      "Train data shape: (2310, 20)\n",
      "X Train type:  <class 'numpy.ndarray'>\n",
      "Y Train type:  <class 'numpy.ndarray'>\n",
      "X Test type:  <class 'numpy.ndarray'>\n",
      "Y Test type:  <class 'numpy.ndarray'>\n"
     ]
    }
   ],
   "source": [
    "print(\"Test data shape:\", x_test.shape)\n",
    "print(\"Train data shape:\", x_train.shape)\n",
    "print(\"X Train type: \", type(x_train))\n",
    "print(\"Y Train type: \", type(y_train))\n",
    "print(\"X Test type: \", type(x_test))\n",
    "print(\"Y Test type: \", type(y_test))"
   ]
  },
  {
   "cell_type": "code",
   "execution_count": 11,
   "id": "0ae77beb-ef6a-4231-98ba-1b6833ae355c",
   "metadata": {},
   "outputs": [],
   "source": [
    "# Using .to_numpy() to convert df to numpy. Then .from_numpy to convert numpy to tensor\n",
    "x_train = torch.from_numpy(x_train)\n",
    "x_test = torch.from_numpy(x_test)\n",
    "y_train = torch.from_numpy(y_train).reshape(-1,1)\n",
    "y_test = torch.from_numpy(y_test).reshape(-1,1)"
   ]
  },
  {
   "cell_type": "code",
   "execution_count": 12,
   "id": "5273d548-96a5-41b7-ab71-b6ee1c1df993",
   "metadata": {},
   "outputs": [
    {
     "name": "stdout",
     "output_type": "stream",
     "text": [
      "X Train data shape: torch.Size([2310, 20])\n",
      "X Test data shape: torch.Size([578, 20])\n",
      "Y Train data shape: torch.Size([2310, 1])\n",
      "Y Test data shape: torch.Size([578, 1])\n",
      "X Train data type: torch.float32\n",
      "X Test data type: torch.float32\n",
      "Y Train data type: torch.float32\n",
      "Y Test data type: torch.float32\n"
     ]
    }
   ],
   "source": [
    "print(\"X Train data shape:\", x_train.shape)\n",
    "print(\"X Test data shape:\", x_test.shape)\n",
    "print(\"Y Train data shape:\", y_train.shape)\n",
    "print(\"Y Test data shape:\", y_test.shape)\n",
    "\n",
    "\n",
    "print(\"X Train data type:\", x_train.dtype)\n",
    "print(\"X Test data type:\", x_test.dtype)\n",
    "print(\"Y Train data type:\", y_train.dtype)\n",
    "print(\"Y Test data type:\", y_test.dtype)"
   ]
  },
  {
   "cell_type": "code",
   "execution_count": 13,
   "id": "82a98a9c-1f11-4dfe-a567-aa3e0cca55a4",
   "metadata": {},
   "outputs": [],
   "source": [
    "#Define a neural network with 3 hidden layers and 1 output layer\n",
    "#Hidden Layers will have 128 and 256 neurons\n",
    "#Output layers will have 1 neuron\n",
    "class NeuralNetwork(nn.Module):\n",
    "    def __init__(self):\n",
    "        super().__init__()\n",
    "        torch.manual_seed(2020)\n",
    "        self.fc1 = nn.Linear(20, 128) \n",
    "        self.relu1 = nn.ReLU()\n",
    "        self.fc2 = nn.Linear(128, 256)\n",
    "        self.relu2 = nn.ReLU()\n",
    "        self.out = nn.Linear(256, 1)\n",
    "    def forward(self, x):\n",
    "        op = self.fc1(x)\n",
    "        op = self.relu1(op)\n",
    "        op = self.fc2(op)\n",
    "        op = self.relu2(op)\n",
    "        y = self.out(op)\n",
    "        return y"
   ]
  },
  {
   "cell_type": "code",
   "execution_count": 14,
   "id": "4a6c4e1b-6be1-4dd9-9500-4214088a39bd",
   "metadata": {},
   "outputs": [],
   "source": [
    "    #Define function for training a network\n",
    "    def train_network(model,optimizer,loss_function,num_epochs,batch_size,X_train,Y_train):\n",
    "    #Explicitly start model training\n",
    "        model.train()\n",
    "        loss_across_epochs = []\n",
    "        print(f'Starting Time: {datetime.datetime.now()}')\n",
    "        for epoch in range(num_epochs):\n",
    "            train_loss= 0.0\n",
    "            for i in range(0,X_train.shape[0],batch_size):\n",
    "                #Extract train batch from X and Y\n",
    "                input_data = X_train[i:min(X_train.shape[0],i+batch_size)]\n",
    "                labels = Y_train[i:min(X_train.shape[0],i+batch_size)]\n",
    "                #set the gradients to zero before starting to do backpropragation\n",
    "                optimizer.zero_grad()\n",
    "                #Forward pass\n",
    "                output_data = model(input_data)\n",
    "                #Caculate loss\n",
    "                loss = loss_function(output_data, labels)\n",
    "                #Backpropogate\n",
    "                loss.backward()\n",
    "                #Update weights\n",
    "                optimizer.step()\n",
    "                train_loss += loss.item() * batch_size\n",
    "            if (epoch+1)% 100==0:\n",
    "                print(f\"Epoch: {epoch+1} - Loss:{np.sqrt(train_loss):.4f}\")\n",
    "            loss_across_epochs.extend([train_loss])\n",
    "        print(f'End Time: {datetime.datetime.now()}')\n",
    "        #Predict\n",
    "        y_test_pred = model(x_test).detach()\n",
    "        plt.plot([min(y_test), max(y_test)], [min(y_test), max(y_test)], color='red', linestyle='--')\n",
    "        plt.scatter(y_test, y_test_pred)\n",
    "        plt.title(\"Neural Network: Predictions vs Ground Truths (Test Set)\")\n",
    "        plt.xlabel(\"Ground Truths\")\n",
    "        plt.ylabel(\"Preedictions\")\n",
    "        return(loss_across_epochs)"
   ]
  },
  {
   "cell_type": "code",
   "execution_count": 15,
   "id": "0fd61137-2009-4480-b13e-a047a3159269",
   "metadata": {},
   "outputs": [],
   "source": [
    "#Define epochs and batch size\n",
    "num_epochs = 500\n",
    "batch_size=16"
   ]
  },
  {
   "cell_type": "code",
   "execution_count": 16,
   "id": "8776f12f-4ebf-4812-b1c1-e5407410e7f4",
   "metadata": {},
   "outputs": [
    {
     "name": "stdout",
     "output_type": "stream",
     "text": [
      "Adam...\n",
      "Starting Time: 2024-12-13 23:17:55.487719\n",
      "Epoch: 100 - Loss:26933215.0477\n",
      "Epoch: 200 - Loss:20039320.2820\n",
      "Epoch: 300 - Loss:5765916.8721\n",
      "Epoch: 400 - Loss:5171229.4246\n",
      "Epoch: 500 - Loss:3956836.7737\n",
      "End Time: 2024-12-13 23:20:02.510820\n"
     ]
    },
    {
     "data": {
      "image/png": "[encoded data removed]",
      "text/plain": [
       "<Figure size 640x480 with 1 Axes>"
      ]
     },
     "metadata": {},
     "output_type": "display_data"
    }
   ],
   "source": [
    "#Create an object of the Neural Network class\n",
    "model = NeuralNetwork()\n",
    "#Define loss function\n",
    "loss_function = nn.MSELoss() #Mean Square Error Loss\n",
    "#Define Optimizer\n",
    "print(\"Adam...\")\n",
    "adam_optimizer = torch.optim.Adam(model.parameters(),lr= 0.001)\n",
    "#Calling the function for training and pass model, optimizer, loss and related paramters\n",
    "adam_loss = train_network(model,adam_optimizer,loss_function,num_epochs,batch_size,x_train,y_train)"
   ]
  },
  {
   "cell_type": "code",
   "execution_count": 17,
   "id": "bcbc3d2b-3055-423b-baa3-499b8805aa9b",
   "metadata": {},
   "outputs": [
    {
     "data": {
      "image/png": "[encoded data removed]",
      "text/plain": [
       "<Figure size 640x480 with 1 Axes>"
      ]
     },
     "metadata": {},
     "output_type": "display_data"
    }
   ],
   "source": [
    "plt.plot(adam_loss,label=\"ADAM\")\n",
    "plt.xlabel(\"Epochs\")\n",
    "plt.ylabel(\"Overall Loss\")\n",
    "plt.title(\"Loss Across Epochs\")\n",
    "plt.show()"
   ]
  },
  {
   "cell_type": "code",
   "execution_count": 18,
   "id": "51ccf4c4-084e-46e9-82a0-1fc7f3e17549",
   "metadata": {},
   "outputs": [
    {
     "name": "stdout",
     "output_type": "stream",
     "text": [
      "R2 Score:  tensor(0.9976)\n",
      "MSE Score:  tensor(1.6954e+09)\n",
      "RMSE Score:  tensor(41175.3164)\n"
     ]
    }
   ],
   "source": [
    "from torcheval.metrics.functional import r2_score, mean_squared_error\n",
    "\n",
    "with torch.no_grad():  # No need to compute gradients for inference\n",
    "    y_pred = model.forward(x_test)  # Get predictions from the model\n",
    "\n",
    "# Calculate R-squared\n",
    "r2 = r2_score(y_pred.view(-1), y_test.view(-1))\n",
    "print(\"R2 Score: \", r2)\n",
    "\n",
    "mse = mean_squared_error(y_pred.view(-1), y_test.view(-1))\n",
    "print(\"MSE Score: \",mse) \n",
    "\n",
    "rms = np.sqrt(mse)\n",
    "print(\"RMSE Score: \",rms) "
   ]
  }
 ],
 "metadata": {
  "kernelspec": {
   "display_name": "Python 3 (ipykernel)",
   "language": "python",
   "name": "python3"
  },
  "language_info": {
   "codemirror_mode": {
    "name": "ipython",
    "version": 3
   },
   "file_extension": ".py",
   "mimetype": "text/x-python",
   "name": "python",
   "nbconvert_exporter": "python",
   "pygments_lexer": "ipython3",
   "version": "3.12.7"
  }
 },
 "nbformat": 4,
 "nbformat_minor": 5
}
