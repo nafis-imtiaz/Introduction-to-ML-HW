{
 "cells": [
  {
   "cell_type": "markdown",
   "id": "6838e262-9ea7-4ab7-856e-e7322e09f942",
   "metadata": {},
   "source": [
    "HW6.1"
   ]
  },
  {
   "cell_type": "code",
   "execution_count": 203,
   "id": "d8461875-2962-449d-84dd-9c833df2f308",
   "metadata": {},
   "outputs": [],
   "source": [
    "import numpy as np\n",
    "import pandas as pd\n",
    "import matplotlib.pyplot as plt\n",
    "import torch.nn as nn\n",
    "%matplotlib inline\n",
    "import torch\n",
    "import torch.optim as optim\n",
    "import time"
   ]
  },
  {
   "cell_type": "code",
   "execution_count": 205,
   "id": "bf92ccce-1b0e-4d17-87af-58c50c1fcf5d",
   "metadata": {},
   "outputs": [
    {
     "data": {
      "text/html": [
       "<div>\n",
       "<style scoped>\n",
       "    .dataframe tbody tr th:only-of-type {\n",
       "        vertical-align: middle;\n",
       "    }\n",
       "\n",
       "    .dataframe tbody tr th {\n",
       "        vertical-align: top;\n",
       "    }\n",
       "\n",
       "    .dataframe thead th {\n",
       "        text-align: right;\n",
       "    }\n",
       "</style>\n",
       "<table border=\"1\" class=\"dataframe\">\n",
       "  <thead>\n",
       "    <tr style=\"text-align: right;\">\n",
       "      <th></th>\n",
       "      <th>price</th>\n",
       "      <th>area</th>\n",
       "      <th>bedrooms</th>\n",
       "      <th>bathrooms</th>\n",
       "      <th>stories</th>\n",
       "      <th>mainroad</th>\n",
       "      <th>guestroom</th>\n",
       "      <th>basement</th>\n",
       "      <th>hotwaterheating</th>\n",
       "      <th>airconditioning</th>\n",
       "      <th>parking</th>\n",
       "      <th>prefarea</th>\n",
       "      <th>furnishingstatus</th>\n",
       "    </tr>\n",
       "  </thead>\n",
       "  <tbody>\n",
       "    <tr>\n",
       "      <th>0</th>\n",
       "      <td>13300000</td>\n",
       "      <td>7420</td>\n",
       "      <td>4</td>\n",
       "      <td>2</td>\n",
       "      <td>3</td>\n",
       "      <td>yes</td>\n",
       "      <td>no</td>\n",
       "      <td>no</td>\n",
       "      <td>no</td>\n",
       "      <td>yes</td>\n",
       "      <td>2</td>\n",
       "      <td>yes</td>\n",
       "      <td>furnished</td>\n",
       "    </tr>\n",
       "    <tr>\n",
       "      <th>1</th>\n",
       "      <td>12250000</td>\n",
       "      <td>8960</td>\n",
       "      <td>4</td>\n",
       "      <td>4</td>\n",
       "      <td>4</td>\n",
       "      <td>yes</td>\n",
       "      <td>no</td>\n",
       "      <td>no</td>\n",
       "      <td>no</td>\n",
       "      <td>yes</td>\n",
       "      <td>3</td>\n",
       "      <td>no</td>\n",
       "      <td>furnished</td>\n",
       "    </tr>\n",
       "    <tr>\n",
       "      <th>2</th>\n",
       "      <td>12250000</td>\n",
       "      <td>9960</td>\n",
       "      <td>3</td>\n",
       "      <td>2</td>\n",
       "      <td>2</td>\n",
       "      <td>yes</td>\n",
       "      <td>no</td>\n",
       "      <td>yes</td>\n",
       "      <td>no</td>\n",
       "      <td>no</td>\n",
       "      <td>2</td>\n",
       "      <td>yes</td>\n",
       "      <td>semi-furnished</td>\n",
       "    </tr>\n",
       "  </tbody>\n",
       "</table>\n",
       "</div>"
      ],
      "text/plain": [
       "      price  area  bedrooms  bathrooms  stories mainroad guestroom basement  \\\n",
       "0  13300000  7420         4          2        3      yes        no       no   \n",
       "1  12250000  8960         4          4        4      yes        no       no   \n",
       "2  12250000  9960         3          2        2      yes        no      yes   \n",
       "\n",
       "  hotwaterheating airconditioning  parking prefarea furnishingstatus  \n",
       "0              no             yes        2      yes        furnished  \n",
       "1              no             yes        3       no        furnished  \n",
       "2              no              no        2      yes   semi-furnished  "
      ]
     },
     "execution_count": 205,
     "metadata": {},
     "output_type": "execute_result"
    }
   ],
   "source": [
    "file_path = 'E:/UNCC/UNCC ML/Housing.csv'\n",
    "sample = pd.DataFrame(pd.read_csv(file_path))\n",
    "sample.head(3)"
   ]
  },
  {
   "cell_type": "code",
   "execution_count": 206,
   "id": "69c7b9d9-5798-464a-aeaf-a54162e0b4a0",
   "metadata": {},
   "outputs": [
    {
     "data": {
      "text/html": [
       "<div>\n",
       "<style scoped>\n",
       "    .dataframe tbody tr th:only-of-type {\n",
       "        vertical-align: middle;\n",
       "    }\n",
       "\n",
       "    .dataframe tbody tr th {\n",
       "        vertical-align: top;\n",
       "    }\n",
       "\n",
       "    .dataframe thead th {\n",
       "        text-align: right;\n",
       "    }\n",
       "</style>\n",
       "<table border=\"1\" class=\"dataframe\">\n",
       "  <thead>\n",
       "    <tr style=\"text-align: right;\">\n",
       "      <th></th>\n",
       "      <th>price</th>\n",
       "      <th>area</th>\n",
       "      <th>bedrooms</th>\n",
       "      <th>bathrooms</th>\n",
       "      <th>stories</th>\n",
       "      <th>mainroad</th>\n",
       "      <th>guestroom</th>\n",
       "      <th>basement</th>\n",
       "      <th>hotwaterheating</th>\n",
       "      <th>airconditioning</th>\n",
       "      <th>parking</th>\n",
       "      <th>prefarea</th>\n",
       "      <th>furnishingstatus</th>\n",
       "    </tr>\n",
       "  </thead>\n",
       "  <tbody>\n",
       "    <tr>\n",
       "      <th>0</th>\n",
       "      <td>13300000</td>\n",
       "      <td>7420</td>\n",
       "      <td>4</td>\n",
       "      <td>2</td>\n",
       "      <td>3</td>\n",
       "      <td>1</td>\n",
       "      <td>0</td>\n",
       "      <td>0</td>\n",
       "      <td>0</td>\n",
       "      <td>1</td>\n",
       "      <td>2</td>\n",
       "      <td>1</td>\n",
       "      <td>1.0</td>\n",
       "    </tr>\n",
       "    <tr>\n",
       "      <th>1</th>\n",
       "      <td>12250000</td>\n",
       "      <td>8960</td>\n",
       "      <td>4</td>\n",
       "      <td>4</td>\n",
       "      <td>4</td>\n",
       "      <td>1</td>\n",
       "      <td>0</td>\n",
       "      <td>0</td>\n",
       "      <td>0</td>\n",
       "      <td>1</td>\n",
       "      <td>3</td>\n",
       "      <td>0</td>\n",
       "      <td>1.0</td>\n",
       "    </tr>\n",
       "    <tr>\n",
       "      <th>2</th>\n",
       "      <td>12250000</td>\n",
       "      <td>9960</td>\n",
       "      <td>3</td>\n",
       "      <td>2</td>\n",
       "      <td>2</td>\n",
       "      <td>1</td>\n",
       "      <td>0</td>\n",
       "      <td>1</td>\n",
       "      <td>0</td>\n",
       "      <td>0</td>\n",
       "      <td>2</td>\n",
       "      <td>1</td>\n",
       "      <td>0.0</td>\n",
       "    </tr>\n",
       "  </tbody>\n",
       "</table>\n",
       "</div>"
      ],
      "text/plain": [
       "      price  area  bedrooms  bathrooms  stories  mainroad  guestroom  \\\n",
       "0  13300000  7420         4          2        3         1          0   \n",
       "1  12250000  8960         4          4        4         1          0   \n",
       "2  12250000  9960         3          2        2         1          0   \n",
       "\n",
       "   basement  hotwaterheating  airconditioning  parking  prefarea  \\\n",
       "0         0                0                1        2         1   \n",
       "1         0                0                1        3         0   \n",
       "2         1                0                0        2         1   \n",
       "\n",
       "   furnishingstatus  \n",
       "0               1.0  \n",
       "1               1.0  \n",
       "2               0.0  "
      ]
     },
     "execution_count": 206,
     "metadata": {},
     "output_type": "execute_result"
    }
   ],
   "source": [
    "# Converting the strings to values\n",
    "\n",
    "list1 =  ['mainroad', 'guestroom', 'basement', 'hotwaterheating', 'airconditioning', 'prefarea']\n",
    "list2 = ['furnishingstatus']\n",
    "\n",
    "# Defining the map function\n",
    "def map1(x):\n",
    "    return x.map({'yes': 1, 'no': 0})\n",
    "\n",
    "def map2(x):\n",
    "    return x.map({'furnished': 1, 'semi-furnished': 0})\n",
    "    \n",
    "sample[list1] = sample[list1].apply(map1)\n",
    "sample[list2] = sample[list2].apply(map2)\n",
    "\n",
    "sample.head(3)"
   ]
  },
  {
   "cell_type": "code",
   "execution_count": 207,
   "id": "33237215-9b49-4896-8db7-8d585e6ae654",
   "metadata": {},
   "outputs": [],
   "source": [
    "X = sample.iloc[:, 1:12].values\n",
    "Y = sample.iloc[:, 0].values\n",
    "#X"
   ]
  },
  {
   "cell_type": "code",
   "execution_count": 210,
   "id": "69d33450-63c9-44e1-a046-8220f113332c",
   "metadata": {},
   "outputs": [
    {
     "data": {
      "text/plain": [
       "torch.Size([545, 1, 11])"
      ]
     },
     "execution_count": 210,
     "metadata": {},
     "output_type": "execute_result"
    }
   ],
   "source": [
    "t_x = torch.tensor(X).unsqueeze(1) # u=x\n",
    "t_y = torch.tensor(Y).unsqueeze(1) # c=y\n",
    "t_x.shape"
   ]
  },
  {
   "cell_type": "code",
   "execution_count": 211,
   "id": "a2bfc8f0-fa58-48df-a21c-5d461791c41a",
   "metadata": {},
   "outputs": [],
   "source": [
    "n_samples = t_y.shape[0]\n",
    "n_val = int(0.2 * n_samples)\n",
    "\n",
    "shuffled_indices = torch.randperm(n_samples)\n",
    "\n",
    "train_indices = shuffled_indices[:-n_val]\n",
    "val_indices = shuffled_indices[-n_val:]"
   ]
  },
  {
   "cell_type": "code",
   "execution_count": 212,
   "id": "8b2089fc-390a-479c-b2df-bbad1c9fbf44",
   "metadata": {},
   "outputs": [],
   "source": [
    "t_x_train = t_x[train_indices].to(torch.float32)\n",
    "t_y_train = t_y[train_indices].to(torch.float32)\n",
    "\n",
    "t_x_val = t_x[val_indices].to(torch.float32)\n",
    "t_y_val = t_y[val_indices].to(torch.float32)"
   ]
  },
  {
   "cell_type": "code",
   "execution_count": 213,
   "id": "c74a1de6-094c-444c-91e8-d4aa1285f855",
   "metadata": {},
   "outputs": [],
   "source": [
    "def training_loop(n_epochs, optimizer, model, loss_fn, t_x_train, t_x_val,\n",
    "                  t_y_train, t_y_val):\n",
    "    for epoch in range(1, n_epochs + 1):\n",
    "        epoch_start_time = time.time()\n",
    "        t_p_train = model(t_x_train) # <1>\n",
    "        loss_train = loss_fn(t_p_train, t_y_train)\n",
    "\n",
    "        t_p_val = model(t_x_val) # <1>\n",
    "        loss_val = loss_fn(t_p_val, t_y_val)\n",
    "        \n",
    "        optimizer.zero_grad()\n",
    "        loss_train.backward() # <2>\n",
    "        optimizer.step()\n",
    "        epoch_end_time = time.time()\n",
    "\n",
    "        if epoch == 1 or epoch % 1000 == 0:\n",
    "            print(f\"Epoch {epoch}, Training loss {loss_train.item():.4f},\"\n",
    "                  f\" Validation loss {loss_val.item():.4f}\"\n",
    "            f\" Training time: {(epoch_end_time - epoch_start_time):.4f} seconds\")"
   ]
  },
  {
   "cell_type": "code",
   "execution_count": 215,
   "id": "932da792-9d00-479c-856a-f1c28e25693e",
   "metadata": {
    "scrolled": true
   },
   "outputs": [],
   "source": [
    "def loss_fn(t_p, t_c):\n",
    "    squared_diffs = (t_p - t_c)**2\n",
    "    return squared_diffs.mean()"
   ]
  },
  {
   "cell_type": "code",
   "execution_count": 216,
   "id": "ef97e2e9-1a07-48e7-acfd-1e8444092061",
   "metadata": {},
   "outputs": [
    {
     "name": "stdout",
     "output_type": "stream",
     "text": [
      "Epoch 1, Training loss 26310443270144.0000, Validation loss 25827385278464.0000 Training time: 0.0028 seconds\n",
      "Epoch 1000, Training loss 26310443270144.0000, Validation loss 25827385278464.0000 Training time: 0.0010 seconds\n",
      "Epoch 2000, Training loss 26310443270144.0000, Validation loss 25827385278464.0000 Training time: 0.0026 seconds\n",
      "Epoch 3000, Training loss 26310443270144.0000, Validation loss 25827385278464.0000 Training time: 0.0020 seconds\n",
      "Epoch 4000, Training loss 26310443270144.0000, Validation loss 25827385278464.0000 Training time: 0.0020 seconds\n",
      "Epoch 5000, Training loss 26310443270144.0000, Validation loss 25827385278464.0000 Training time: 0.0010 seconds\n",
      "\n",
      "Parameter containing:\n",
      "tensor([[-0.0690, -0.0615,  0.2069, -0.2232,  0.2574,  0.2224,  0.1345,  0.0839,\n",
      "         -0.0939, -0.0397,  0.1108]], requires_grad=True)\n",
      "Parameter containing:\n",
      "tensor([-0.1964], requires_grad=True)\n"
     ]
    }
   ],
   "source": [
    "linear_model = nn.Linear(11, 1) # <1>\n",
    "\n",
    "seq_model = nn.Sequential(\n",
    "            nn.Linear(11, 56), # <1>\n",
    "            nn.Tanh(),\n",
    "            nn.Linear(56, 1)) # <2>\n",
    "\n",
    "optimizer = optim.SGD(linear_model.parameters(), lr=1e-2)\n",
    "\n",
    "training_loop(\n",
    "    n_epochs = 5000, \n",
    "    optimizer = optimizer,\n",
    "    model = seq_model,\n",
    "    loss_fn = loss_fn,\n",
    "    t_x_train = t_x_train,\n",
    "    t_x_val = t_x_val, \n",
    "    t_y_train = t_y_train,\n",
    "    t_y_val = t_y_val)\n",
    "\n",
    "print()\n",
    "print(linear_model.weight)\n",
    "print(linear_model.bias)"
   ]
  },
  {
   "cell_type": "code",
   "execution_count": 219,
   "id": "b4d731a2-8a2f-4c39-9e66-23ad9e8dba1a",
   "metadata": {},
   "outputs": [
    {
     "name": "stdout",
     "output_type": "stream",
     "text": [
      "Epoch 1, Training loss 26310443270144.0000, Validation loss 25827385278464.0000 Training time: 0.0073 seconds\n",
      "Epoch 1000, Training loss 26310443270144.0000, Validation loss 25827385278464.0000 Training time: 0.0033 seconds\n",
      "Epoch 2000, Training loss 26310443270144.0000, Validation loss 25827385278464.0000 Training time: 0.0030 seconds\n",
      "Epoch 3000, Training loss 26310443270144.0000, Validation loss 25827385278464.0000 Training time: 0.0025 seconds\n",
      "Epoch 4000, Training loss 26310443270144.0000, Validation loss 25827385278464.0000 Training time: 0.0030 seconds\n",
      "Epoch 5000, Training loss 26310443270144.0000, Validation loss 25827385278464.0000 Training time: 0.0031 seconds\n",
      "\n",
      "Parameter containing:\n",
      "tensor([[-0.0690, -0.0615,  0.2069, -0.2232,  0.2574,  0.2224,  0.1345,  0.0839,\n",
      "         -0.0939, -0.0397,  0.1108]], requires_grad=True)\n",
      "Parameter containing:\n",
      "tensor([-0.1964], requires_grad=True)\n"
     ]
    }
   ],
   "source": [
    "seq_model = nn.Sequential(\n",
    "            nn.Linear(11, 56), # <1>\n",
    "            nn.Tanh(),\n",
    "            nn.Linear(56, 128), # <2>\n",
    "            nn.Tanh(),\n",
    "            nn.Linear(128, 56), # <3>\n",
    "            nn.Tanh(),\n",
    "            nn.Linear(56, 1))\n",
    "\n",
    "optimizer = optim.SGD(linear_model.parameters(), lr=1e-2)\n",
    "\n",
    "training_loop(\n",
    "    n_epochs = 5000, \n",
    "    optimizer = optimizer,\n",
    "    model = seq_model,\n",
    "    loss_fn = loss_fn,\n",
    "    t_x_train = t_x_train,\n",
    "    t_x_val = t_x_val, \n",
    "    t_y_train = t_y_train,\n",
    "    t_y_val = t_y_val)\n",
    "\n",
    "print()\n",
    "print(linear_model.weight)\n",
    "print(linear_model.bias)"
   ]
  }
 ],
 "metadata": {
  "kernelspec": {
   "display_name": "Python 3 (ipykernel)",
   "language": "python",
   "name": "python3"
  },
  "language_info": {
   "codemirror_mode": {
    "name": "ipython",
    "version": 3
   },
   "file_extension": ".py",
   "mimetype": "text/x-python",
   "name": "python",
   "nbconvert_exporter": "python",
   "pygments_lexer": "ipython3",
   "version": "3.12.7"
  }
 },
 "nbformat": 4,
 "nbformat_minor": 5
}
