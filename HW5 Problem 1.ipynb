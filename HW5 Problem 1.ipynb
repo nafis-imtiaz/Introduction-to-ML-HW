{
  "nbformat": 4,
  "nbformat_minor": 0,
  "metadata": {
    "colab": {
      "provenance": []
    },
    "kernelspec": {
      "name": "python3",
      "display_name": "Python 3"
    },
    "language_info": {
      "name": "python"
    }
  },
  "cells": [
    {
      "cell_type": "code",
      "source": [
        "import torch\n",
        "import numpy as np\n",
        "import matplotlib.pyplot as plt"
      ],
      "metadata": {
        "id": "n2usyGTkbvY5"
      },
      "execution_count": 260,
      "outputs": []
    },
    {
      "cell_type": "code",
      "execution_count": 261,
      "metadata": {
        "id": "pQV4LWiJbmQr"
      },
      "outputs": [],
      "source": [
        "t_c = [0.5, 14.0, 15.0, 28.0, 11.0, 8.0, 3.0, -4.0, 6.0, 13.0, 21.0]\n",
        "t_u = [35.7, 55.9, 58.2, 81.9, 56.3, 48.9, 33.9, 21.8, 48.4, 60.4, 68.4]\n",
        "tc = torch.tensor(t_c)\n",
        "tu = torch.tensor(t_u)\n",
        "tun = tu * 0.1"
      ]
    },
    {
      "cell_type": "code",
      "source": [
        "def model(tu, w2, w1, b):\n",
        "  return w2 * tu**2 + w1 * tu + b\n",
        "\n",
        "def model1(tu, w1, b):\n",
        "  return w1 * tu + b\n",
        "\n",
        "def lossf(tp, tc):\n",
        "  squared_diff = (tp-tc)**2\n",
        "  return squared_diff.mean()"
      ],
      "metadata": {
        "id": "J-SkE-wAcCFF"
      },
      "execution_count": 262,
      "outputs": []
    },
    {
      "cell_type": "code",
      "source": [
        "#w1 = torch.ones(())\n",
        "#w2 = torch.ones(())\n",
        "#b = torch.zeros(())\n",
        "#tp = model(tu, w2, w1, b)\n",
        "#tp"
      ],
      "metadata": {
        "id": "4rz8-HsXdBWQ"
      },
      "execution_count": 263,
      "outputs": []
    },
    {
      "cell_type": "code",
      "source": [
        "prm = torch.tensor([1.0, 1.0, 0.0], requires_grad=True)\n",
        "loss = lossf(model(tu, *prm), tc)\n",
        "loss.backward()\n",
        "prm.grad"
      ],
      "metadata": {
        "colab": {
          "base_uri": "https://localhost:8080/"
        },
        "id": "pmxYdZGKdZSi",
        "outputId": "493f95c1-d6d4-4e36-cf89-c6418c01873e"
      },
      "execution_count": 264,
      "outputs": [
        {
          "output_type": "execute_result",
          "data": {
            "text/plain": [
              "tensor([2.3149e+07, 3.6181e+05, 5.9642e+03])"
            ]
          },
          "metadata": {},
          "execution_count": 264
        }
      ]
    },
    {
      "cell_type": "code",
      "source": [
        "prm1 = torch.tensor([1.0, 0.0], requires_grad=True)\n",
        "loss1 = lossf(model1(tu, *prm1), tc)\n",
        "loss1.backward()\n",
        "prm1.grad"
      ],
      "metadata": {
        "colab": {
          "base_uri": "https://localhost:8080/"
        },
        "id": "szljLHyumFTq",
        "outputId": "a8cfcd03-39f8-4dae-a1b5-df960ca3013c"
      },
      "execution_count": 265,
      "outputs": [
        {
          "output_type": "execute_result",
          "data": {
            "text/plain": [
              "tensor([4517.2969,   82.6000])"
            ]
          },
          "metadata": {},
          "execution_count": 265
        }
      ]
    },
    {
      "cell_type": "code",
      "source": [
        "def training_loop(n_epochs, learning_rate, prm, tu, tc):\n",
        "  for epoch in range(1, n_epochs + 1):\n",
        "    if prm.grad is not None:\n",
        "      prm.grad.zero_()\n",
        "    tpc = model(tu, *prm)\n",
        "    loss = lossf(tpc, tc)\n",
        "    loss.backward()\n",
        "    with torch.no_grad():\n",
        "      prm -= learning_rate * prm.grad\n",
        "    if epoch % 500 == 0:\n",
        "      print('Epoch %d, Loss %f' % (epoch, float(loss)))\n",
        "  return prm, tpc"
      ],
      "metadata": {
        "id": "712flGFJgOy8"
      },
      "execution_count": 266,
      "outputs": []
    },
    {
      "cell_type": "code",
      "source": [
        "def training_loop1(n_epochs, learning_rate, prm1, tu, tc):\n",
        "  for epoch in range(1, n_epochs + 1):\n",
        "    if prm1.grad is not None:\n",
        "      prm1.grad.zero_()\n",
        "    tpl = model1(tun, *prm1)\n",
        "    loss1 = lossf(tpl, tc)\n",
        "    loss1.backward()\n",
        "    with torch.no_grad():\n",
        "      prm1 -= learning_rate * prm1.grad\n",
        "    if epoch % 500 == 0:\n",
        "      print('Epoch %d, Loss %f' % (epoch, float(loss1)))\n",
        "  return prm1, tpl"
      ],
      "metadata": {
        "id": "LufcUJ1SmRtl"
      },
      "execution_count": 267,
      "outputs": []
    },
    {
      "cell_type": "code",
      "source": [
        "ac, bc = training_loop(\n",
        "              n_epochs=5000,\n",
        "              learning_rate=1e-4,\n",
        "              prm = torch.tensor([1.0, 1.0, 0.0], requires_grad=True),\n",
        "              tu = tun,\n",
        "              tc = tc\n",
        "              )"
      ],
      "metadata": {
        "colab": {
          "base_uri": "https://localhost:8080/"
        },
        "id": "ptogpU5XiYkW",
        "outputId": "11f71971-e8af-40e6-a809-508b07a96e31"
      },
      "execution_count": 268,
      "outputs": [
        {
          "output_type": "stream",
          "name": "stdout",
          "text": [
            "Epoch 500, Loss 10.708596\n",
            "Epoch 1000, Loss 8.642083\n",
            "Epoch 1500, Loss 7.171005\n",
            "Epoch 2000, Loss 6.123477\n",
            "Epoch 2500, Loss 5.377227\n",
            "Epoch 3000, Loss 4.845285\n",
            "Epoch 3500, Loss 4.465788\n",
            "Epoch 4000, Loss 4.194724\n",
            "Epoch 4500, Loss 4.000802\n",
            "Epoch 5000, Loss 3.861744\n"
          ]
        }
      ]
    },
    {
      "cell_type": "code",
      "source": [
        "al, bl = training_loop1(\n",
        "              n_epochs=5000,\n",
        "              learning_rate=1e-2,\n",
        "              prm1 = torch.tensor([1.0, 0.0], requires_grad=True),\n",
        "              tu = tun,\n",
        "              tc = tc\n",
        "              )"
      ],
      "metadata": {
        "colab": {
          "base_uri": "https://localhost:8080/"
        },
        "id": "f9Fu1SOQmkIu",
        "outputId": "031e4dce-ec15-4dde-87a1-d154a867d353"
      },
      "execution_count": 269,
      "outputs": [
        {
          "output_type": "stream",
          "name": "stdout",
          "text": [
            "Epoch 500, Loss 7.860115\n",
            "Epoch 1000, Loss 3.828538\n",
            "Epoch 1500, Loss 3.092191\n",
            "Epoch 2000, Loss 2.957698\n",
            "Epoch 2500, Loss 2.933134\n",
            "Epoch 3000, Loss 2.928648\n",
            "Epoch 3500, Loss 2.927830\n",
            "Epoch 4000, Loss 2.927679\n",
            "Epoch 4500, Loss 2.927652\n",
            "Epoch 5000, Loss 2.927647\n"
          ]
        }
      ]
    },
    {
      "cell_type": "code",
      "source": [
        "bl"
      ],
      "metadata": {
        "colab": {
          "base_uri": "https://localhost:8080/"
        },
        "id": "sE_4U4zdxVFG",
        "outputId": "9af430f5-1479-4f5e-a504-1c687497ead6"
      },
      "execution_count": 270,
      "outputs": [
        {
          "output_type": "execute_result",
          "data": {
            "text/plain": [
              "tensor([ 1.8593, 12.7008, 13.9352, 26.6552, 12.9155,  8.9439,  0.8932, -5.6009,\n",
              "         8.6755, 15.1160, 19.4097], grad_fn=<AddBackward0>)"
            ]
          },
          "metadata": {},
          "execution_count": 270
        }
      ]
    },
    {
      "cell_type": "code",
      "source": [
        "%matplotlib inline\n",
        "from matplotlib import pyplot as plt"
      ],
      "metadata": {
        "id": "OojGUTRisq8j"
      },
      "execution_count": 271,
      "outputs": []
    },
    {
      "cell_type": "code",
      "source": [
        "fig = plt.figure(dpi=90)\n",
        "plt.title(\"HW5.1 (Celsius to Fahrenheit)\")\n",
        "plt.xlabel(\"Temperature (°Fahrenheit)\")\n",
        "plt.ylabel(\"Temperature (°Celsius)\")\n",
        "plt.plot(tu.numpy(), bl.detach().numpy(),'--')\n",
        "plt.plot(tu.numpy(), bc.detach().numpy())\n",
        "plt.plot(tu.numpy(), tc.numpy(), 'o')"
      ],
      "metadata": {
        "colab": {
          "base_uri": "https://localhost:8080/",
          "height": 443
        },
        "id": "seAGfgkMwgya",
        "outputId": "a142a7e7-740f-4f39-a4a7-11d78fb6a36e"
      },
      "execution_count": 288,
      "outputs": [
        {
          "output_type": "execute_result",
          "data": {
            "text/plain": [
              "[<matplotlib.lines.Line2D at 0x7f126cf67430>]"
            ]
          },
          "metadata": {},
          "execution_count": 288
        },
        {
          "output_type": "display_data",
          "data": {
            "text/plain": [
              "<Figure size 576x432 with 1 Axes>"
            ],
            "image/png": "[encoded data removed]"
          },
          "metadata": {}
        }
      ]
    }
  ]
}