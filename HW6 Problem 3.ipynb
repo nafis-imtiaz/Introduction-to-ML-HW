{
 "cells": [
  {
   "cell_type": "markdown",
   "id": "e7def750-0138-42ff-9e5e-7ea9236450f3",
   "metadata": {},
   "source": [
    "HW6.3"
   ]
  },
  {
   "cell_type": "code",
   "execution_count": 49,
   "id": "d8461875-2962-449d-84dd-9c833df2f308",
   "metadata": {},
   "outputs": [
    {
     "data": {
      "text/plain": [
       "<torch._C.Generator at 0x2621ab90d10>"
      ]
     },
     "execution_count": 49,
     "metadata": {},
     "output_type": "execute_result"
    }
   ],
   "source": [
    "%matplotlib inline\n",
    "from matplotlib import pyplot as plt\n",
    "import numpy as np\n",
    "import collections\n",
    "import time\n",
    "import torch\n",
    "import torch.nn as nn\n",
    "import torch.nn.functional as F\n",
    "import torch.optim as optim\n",
    "\n",
    "torch.set_printoptions(edgeitems=2)\n",
    "torch.manual_seed(123)"
   ]
  },
  {
   "cell_type": "code",
   "execution_count": 50,
   "id": "a31f4f61-5264-413d-b063-8f71ac42d480",
   "metadata": {},
   "outputs": [],
   "source": [
    "class_names = ['airplane','automobile','bird','cat','deer',\n",
    "               'dog','frog','horse','ship','truck']"
   ]
  },
  {
   "cell_type": "code",
   "execution_count": 51,
   "id": "c4df08a4-d732-496e-a5ce-988da34bffb5",
   "metadata": {},
   "outputs": [
    {
     "name": "stdout",
     "output_type": "stream",
     "text": [
      "Files already downloaded and verified\n"
     ]
    }
   ],
   "source": [
    "from torchvision import datasets, transforms\n",
    "data_path = 'E:/UNCC/UNCC ML/Project/data-unversioned/p1ch6/'\n",
    "cifar10 = datasets.CIFAR10(\n",
    "    data_path, train=True, download=True,\n",
    "    transform=transforms.Compose([\n",
    "        transforms.ToTensor(),\n",
    "        transforms.Normalize((0.4915, 0.4823, 0.4468),\n",
    "                             (0.2470, 0.2435, 0.2616))\n",
    "    ]))"
   ]
  },
  {
   "cell_type": "code",
   "execution_count": 52,
   "id": "237fb3ee-493c-49a2-86d4-76321a23d8bd",
   "metadata": {},
   "outputs": [
    {
     "name": "stdout",
     "output_type": "stream",
     "text": [
      "Files already downloaded and verified\n"
     ]
    }
   ],
   "source": [
    "cifar10_val = datasets.CIFAR10(\n",
    "    data_path, train=False, download=True,\n",
    "    transform=transforms.Compose([\n",
    "        transforms.ToTensor(),\n",
    "        transforms.Normalize((0.4915, 0.4823, 0.4468),\n",
    "                             (0.2470, 0.2435, 0.2616))\n",
    "    ]))"
   ]
  },
  {
   "cell_type": "code",
   "execution_count": 53,
   "id": "29fdba3f-7fa6-431d-b819-05648500234d",
   "metadata": {},
   "outputs": [],
   "source": [
    "label_map = {0: 0, 2: 1}\n",
    "# \n",
    "class_names = ['airplane', 'bird']\n",
    "cifar2 = [(img, label_map[label])\n",
    "          for img, label in cifar10\n",
    "          if label in [0, 2]]\n",
    "cifar2_val = [(img, label_map[label])\n",
    "              for img, label in cifar10_val\n",
    "              if label in [0, 2]]"
   ]
  },
  {
   "cell_type": "code",
   "execution_count": 57,
   "id": "a5bebb0b-7d19-422b-b86b-d2245f43949b",
   "metadata": {},
   "outputs": [
    {
     "name": "stdout",
     "output_type": "stream",
     "text": [
      "Epoch 0, Training loss 0.5090, Training time: 0.8559 seconds\n",
      "Epoch 1, Training loss 0.5487, Training time: 0.7666 seconds\n",
      "Epoch 20, Training loss 0.0811, Training time: 0.7073 seconds\n",
      "Epoch 40, Training loss 0.0331, Training time: 0.7499 seconds\n",
      "Epoch 60, Training loss 0.0256, Training time: 0.7123 seconds\n",
      "Epoch 80, Training loss 0.0054, Training time: 0.7103 seconds\n",
      "Epoch 100, Training loss 0.0020, Training time: 0.7209 seconds\n"
     ]
    }
   ],
   "source": [
    "train_loader = torch.utils.data.DataLoader(cifar2, batch_size=32,\n",
    "                                           shuffle=True)  # <1>\n",
    "\n",
    "model = nn.Sequential(\n",
    "                nn.Linear(3072, 256),\n",
    "                nn.Tanh(),\n",
    "                nn.Linear(256, 2),\n",
    "                nn.LogSoftmax(dim=1))  #  <2>\n",
    "optimizer = optim.SGD(model.parameters(), lr=1e-2)  #  <3>\n",
    "loss_fn = nn.NLLLoss()  #  <4>\n",
    "n_epochs = 100\n",
    "\n",
    "\n",
    "for epoch in range(n_epochs+1):\n",
    "    epoch_start_time = time.time()\n",
    "    for imgs, labels in train_loader:\n",
    "        batch_size = imgs.shape[0]\n",
    "        outputs = model(imgs.view(batch_size, -1))\n",
    "        loss = loss_fn(outputs, labels)\n",
    "\n",
    "        optimizer.zero_grad()\n",
    "        loss.backward()\n",
    "        optimizer.step()\n",
    "    epoch_end_time = time.time()\n",
    "    if epoch == 1 or epoch % 20 == 0:\n",
    "            print(f\"Epoch {epoch}, Training loss {float(loss):.4f},\"\n",
    "            f\" Training time: {(epoch_end_time - epoch_start_time):.4f} seconds\")\n"
   ]
  },
  {
   "cell_type": "code",
   "execution_count": 61,
   "id": "437317a7-6289-4336-be6d-225deba290e0",
   "metadata": {},
   "outputs": [
    {
     "name": "stdout",
     "output_type": "stream",
     "text": [
      "Accuracy train: 1.00\n",
      "Accuracy val: 0.81\n"
     ]
    }
   ],
   "source": [
    "train_loader = torch.utils.data.DataLoader(cifar2, batch_size=32,\n",
    "                                           shuffle=False)\n",
    "val_loader = torch.utils.data.DataLoader(cifar2_val, batch_size=32,\n",
    "                                         shuffle=False)\n",
    "\n",
    "\n",
    "for name, loader in [(\"train\", train_loader), (\"val\", val_loader)]:\n",
    "    correct = 0\n",
    "    total = 0\n",
    "    \n",
    "    with torch.no_grad():  # <1>\n",
    "        for imgs, labels in loader:\n",
    "            outputs = model(imgs.view(imgs.size(0), -1))\n",
    "            _, predicted = torch.max(outputs, dim=1) # <2>\n",
    "            total += labels.shape[0]  # <3>\n",
    "            correct += int((predicted == labels).sum())  # <4>\n",
    "    print(\"Accuracy {}: {:.2f}\".format(name , correct / total))"
   ]
  },
  {
   "cell_type": "code",
   "execution_count": 62,
   "id": "85469322-60ee-4e8a-a4e3-64b2b29d86a6",
   "metadata": {},
   "outputs": [
    {
     "name": "stdout",
     "output_type": "stream",
     "text": [
      "Epoch 0, Training loss 0.7345, Training time: 0.8965 seconds\n",
      "Epoch 1, Training loss 0.7216, Training time: 0.9240 seconds\n",
      "Epoch 20, Training loss 0.7209, Training time: 0.8593 seconds\n",
      "Epoch 40, Training loss 0.7092, Training time: 0.8401 seconds\n",
      "Epoch 60, Training loss 0.7104, Training time: 0.8547 seconds\n",
      "Epoch 80, Training loss 0.7244, Training time: 0.8540 seconds\n",
      "Epoch 100, Training loss 0.6860, Training time: 0.8370 seconds\n"
     ]
    }
   ],
   "source": [
    "train_loader = torch.utils.data.DataLoader(cifar2, batch_size=32,\n",
    "                                           shuffle=True)  # <1>\n",
    "\n",
    "model_2 = nn.Sequential(\n",
    "                nn.Linear(3072, 256),\n",
    "                nn.Tanh(),\n",
    "                nn.Linear(256, 128),\n",
    "                nn.Tanh(),\n",
    "                nn.Linear(128, 256),\n",
    "                nn.Tanh(),\n",
    "                nn.Linear(256, 2),\n",
    "                nn.LogSoftmax(dim=1))  #  <2>\n",
    "optimizer = optim.SGD(model.parameters(), lr=1e-2)  #  <3>\n",
    "loss_fn = nn.NLLLoss()  #  <4>\n",
    "n_epochs = 100\n",
    "\n",
    "\n",
    "for epoch in range(n_epochs+1):\n",
    "    epoch_start_time = time.time()\n",
    "    for imgs, labels in train_loader:\n",
    "        batch_size = imgs.shape[0]\n",
    "        outputs = model_2(imgs.view(batch_size, -1))\n",
    "        loss = loss_fn(outputs, labels)\n",
    "\n",
    "        optimizer.zero_grad()\n",
    "        loss.backward()\n",
    "        optimizer.step()\n",
    "    epoch_end_time = time.time()\n",
    "    if epoch == 1 or epoch % 20 == 0:\n",
    "            print(f\"Epoch {epoch}, Training loss {float(loss):.4f},\"\n",
    "            f\" Training time: {(epoch_end_time - epoch_start_time):.4f} seconds\")"
   ]
  },
  {
   "cell_type": "code",
   "execution_count": 63,
   "id": "11177afd-17ad-4dd2-836f-e2109d37f3a0",
   "metadata": {},
   "outputs": [
    {
     "name": "stdout",
     "output_type": "stream",
     "text": [
      "Accuracy train: 0.48\n",
      "Accuracy val: 0.46\n"
     ]
    }
   ],
   "source": [
    "train_loader = torch.utils.data.DataLoader(cifar2, batch_size=32,\n",
    "                                           shuffle=False)\n",
    "val_loader = torch.utils.data.DataLoader(cifar2_val, batch_size=32,\n",
    "                                         shuffle=False)\n",
    "\n",
    "\n",
    "for name, loader in [(\"train\", train_loader), (\"val\", val_loader)]:\n",
    "    correct = 0\n",
    "    total = 0\n",
    "    \n",
    "    with torch.no_grad():  # <1>\n",
    "        for imgs, labels in loader:\n",
    "            outputs = model_2(imgs.view(imgs.size(0), -1))\n",
    "            _, predicted = torch.max(outputs, dim=1) # <2>\n",
    "            total += labels.shape[0]  # <3>\n",
    "            correct += int((predicted == labels).sum())  # <4>\n",
    "    print(\"Accuracy {}: {:.2f}\".format(name , correct / total))"
   ]
  }
 ],
 "metadata": {
  "kernelspec": {
   "display_name": "Python 3 (ipykernel)",
   "language": "python",
   "name": "python3"
  },
  "language_info": {
   "codemirror_mode": {
    "name": "ipython",
    "version": 3
   },
   "file_extension": ".py",
   "mimetype": "text/x-python",
   "name": "python",
   "nbconvert_exporter": "python",
   "pygments_lexer": "ipython3",
   "version": "3.12.7"
  }
 },
 "nbformat": 4,
 "nbformat_minor": 5
}
